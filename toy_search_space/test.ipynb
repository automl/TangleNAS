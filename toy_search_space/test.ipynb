{
 "cells": [
  {
   "cell_type": "code",
   "execution_count": 1,
   "id": "8e7f236f-ecd3-49be-b680-373ad70abc80",
   "metadata": {},
   "outputs": [],
   "source": [
    "import torch"
   ]
  },
  {
   "cell_type": "code",
   "execution_count": 2,
   "id": "8b3e7b4e-2d50-4456-812b-6d9fec437925",
   "metadata": {},
   "outputs": [],
   "source": [
    "a = torch.randn([10,10]).cuda()"
   ]
  },
  {
   "cell_type": "code",
   "execution_count": 3,
   "id": "237e76fc-1331-416e-8723-fa8881a635eb",
   "metadata": {},
   "outputs": [
    {
     "data": {
      "text/plain": [
       "tensor([[ 1.1567,  0.5571,  2.1860, -0.1275, -1.0931,  0.4955, -1.1929, -0.0358,\n",
       "         -0.4506,  0.0761],\n",
       "        [ 0.4437,  0.1956,  0.0127,  1.6150,  0.8881,  0.3499,  1.5928, -0.1336,\n",
       "         -0.9926,  0.0218],\n",
       "        [ 1.7192, -0.8840, -0.9382, -0.4161, -0.0589,  0.8679,  0.4736,  0.2369,\n",
       "         -0.1052,  0.9044],\n",
       "        [-0.7543, -0.6631,  1.7648, -0.6147,  0.4091,  0.6342,  1.0395, -1.1589,\n",
       "          1.3925, -1.8786],\n",
       "        [-0.0189, -0.1739, -1.2592,  0.5094,  0.4755, -0.0939,  0.3357,  2.8029,\n",
       "          0.7732,  1.5530],\n",
       "        [ 0.2175,  0.4036, -0.6519,  0.0916, -2.1789,  0.9336, -2.0749,  0.6533,\n",
       "         -0.1384, -0.4971],\n",
       "        [ 0.5980, -0.5065, -0.5395,  1.1069,  0.4914, -2.3748, -1.2821,  0.4164,\n",
       "          2.2203,  0.2243],\n",
       "        [ 0.3969, -0.1236, -0.7950, -2.3335, -1.2085, -0.0062,  1.9757,  0.5039,\n",
       "          0.6870, -0.8359],\n",
       "        [-1.9458, -1.1185, -0.7747, -1.4139,  0.6133,  0.4619, -0.7583,  0.0964,\n",
       "         -0.3761,  1.4896],\n",
       "        [ 0.8772, -1.1901, -0.3400,  0.3706,  0.7502,  0.7208,  1.1722, -0.0479,\n",
       "         -1.0069, -1.0836]], device='cuda:0')"
      ]
     },
     "execution_count": 3,
     "metadata": {},
     "output_type": "execute_result"
    }
   ],
   "source": [
    "a"
   ]
  },
  {
   "cell_type": "code",
   "execution_count": 19,
   "id": "dd06a9de-9d68-4432-ad91-c8cafc1067da",
   "metadata": {},
   "outputs": [],
   "source": [
    "network = torch.nn.Linear(10,1).cuda()"
   ]
  },
  {
   "cell_type": "code",
   "execution_count": 20,
   "id": "be460b82-b156-4436-8628-a8bc6b07e036",
   "metadata": {},
   "outputs": [],
   "source": [
    "input = torch.randn([32,10]).cuda()"
   ]
  },
  {
   "cell_type": "code",
   "execution_count": 21,
   "id": "69b9263f-3eae-4a4f-968e-8f5575864fc4",
   "metadata": {},
   "outputs": [],
   "source": [
    "output = network(input)"
   ]
  },
  {
   "cell_type": "code",
   "execution_count": 22,
   "id": "d8dc7c39-1157-4181-9af9-49e3e6c2d72e",
   "metadata": {},
   "outputs": [
    {
     "data": {
      "text/plain": [
       "torch.Size([32, 1])"
      ]
     },
     "execution_count": 22,
     "metadata": {},
     "output_type": "execute_result"
    }
   ],
   "source": [
    "output.shape"
   ]
  },
  {
   "cell_type": "code",
   "execution_count": 23,
   "id": "73f8c32f-caee-4ea7-9ac3-aaf03c929926",
   "metadata": {},
   "outputs": [],
   "source": [
    "loss = torch.sum(output)"
   ]
  },
  {
   "cell_type": "code",
   "execution_count": 24,
   "id": "dc57cb7d-e3b3-4add-95ee-c133736ce97b",
   "metadata": {},
   "outputs": [],
   "source": [
    "loss.backward()"
   ]
  },
  {
   "cell_type": "code",
   "execution_count": 25,
   "id": "22f1b877-126b-4382-9ab2-965b18ba4bc9",
   "metadata": {},
   "outputs": [
    {
     "data": {
      "text/plain": [
       "tensor([[-1.0489,  8.5772,  1.9554, -1.7151, -7.3745, -8.1954, -2.7303,  0.0585,\n",
       "         -1.0393, -4.0262]], device='cuda:0')"
      ]
     },
     "execution_count": 25,
     "metadata": {},
     "output_type": "execute_result"
    }
   ],
   "source": [
    "network.weight.grad"
   ]
  },
  {
   "cell_type": "code",
   "execution_count": 27,
   "id": "d9cd0aed-7c19-452a-a63a-5567c3dd6504",
   "metadata": {},
   "outputs": [],
   "source": [
    "import torch\n",
    "SGD = torch.optim.SGD(network.parameters(),0.001)"
   ]
  },
  {
   "cell_type": "code",
   "execution_count": 29,
   "id": "590a1e8c-793b-4582-8615-a208f17e555a",
   "metadata": {},
   "outputs": [],
   "source": [
    "SGD.zero_grad()"
   ]
  },
  {
   "cell_type": "code",
   "execution_count": 30,
   "id": "a71fdb2a-00ca-426c-9242-e8d740828adf",
   "metadata": {},
   "outputs": [],
   "source": [
    "SGD.step()"
   ]
  },
  {
   "cell_type": "code",
   "execution_count": 31,
   "id": "0cca2a6d-a65b-421f-a149-11d8d3584c80",
   "metadata": {},
   "outputs": [
    {
     "data": {
      "text/plain": [
       "{0: {'momentum_buffer': None}, 1: {'momentum_buffer': None}}"
      ]
     },
     "execution_count": 31,
     "metadata": {},
     "output_type": "execute_result"
    }
   ],
   "source": [
    "SGD.state_dict()[\"state\"]"
   ]
  },
  {
   "cell_type": "code",
   "execution_count": 40,
   "id": "f58343ff-6a6a-4d41-84f5-9986e980df7a",
   "metadata": {},
   "outputs": [],
   "source": [
    "SGD.zero_grad()\n",
    "input = torch.randn([32,10]).cuda()\n",
    "output = network(input)\n",
    "loss = torch.sum(output)\n",
    "loss.backward()\n",
    "SGD.step()"
   ]
  },
  {
   "cell_type": "code",
   "execution_count": 41,
   "id": "c53ea5aa-ea68-4107-9655-4e7152737532",
   "metadata": {},
   "outputs": [
    {
     "data": {
      "text/plain": [
       "{0: {'momentum_buffer': None}, 1: {'momentum_buffer': None}}"
      ]
     },
     "execution_count": 41,
     "metadata": {},
     "output_type": "execute_result"
    }
   ],
   "source": [
    "SGD.state_dict()[\"state\"]"
   ]
  },
  {
   "cell_type": "code",
   "execution_count": null,
   "id": "aa88dd1d-b425-4a9c-aa76-d064f4ef3bd6",
   "metadata": {},
   "outputs": [],
   "source": []
  }
 ],
 "metadata": {
  "kernelspec": {
   "display_name": "Python 3 (ipykernel)",
   "language": "python",
   "name": "python3"
  },
  "language_info": {
   "codemirror_mode": {
    "name": "ipython",
    "version": 3
   },
   "file_extension": ".py",
   "mimetype": "text/x-python",
   "name": "python",
   "nbconvert_exporter": "python",
   "pygments_lexer": "ipython3",
   "version": "3.9.13"
  }
 },
 "nbformat": 4,
 "nbformat_minor": 5
}
