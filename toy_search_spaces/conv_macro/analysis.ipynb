{
 "cells": [
  {
   "cell_type": "code",
   "execution_count": 1,
   "metadata": {},
   "outputs": [],
   "source": [
    "import pickle\n",
    "with open(\"benchmark_all_archs_final.pkl\", \"rb\") as f:\n",
    "    all_archs = pickle.load(f)"
   ]
  },
  {
   "cell_type": "code",
   "execution_count": 17,
   "metadata": {},
   "outputs": [
    {
     "name": "stdout",
     "output_type": "stream",
     "text": [
      "Best arch:  [[8, 16, 32, 64], [3, 3, 3, 3]]  acc:  10.0\n",
      "Best arch:  [[8, 16, 32, 64], [5, 3, 3, 3]]  acc:  70.57\n",
      "Best arch:  [[8, 16, 32, 64], [7, 3, 3, 3]]  acc:  71.71\n",
      "Best arch:  [[8, 16, 32, 64], [3, 5, 3, 3]]  acc:  72.38\n",
      "Best arch:  [[8, 16, 32, 64], [5, 5, 3, 3]]  acc:  73.08\n",
      "Best arch:  [[8, 32, 64, 64], [5, 3, 3, 5]]  acc:  74.74\n",
      "Best arch:  [[8, 32, 64, 64], [7, 3, 3, 5]]  acc:  75.89\n",
      "Best arch:  [[8, 32, 64, 64], [5, 5, 3, 5]]  acc:  75.94\n",
      "Best arch:  [[8, 16, 64, 128], [7, 3, 5, 3]]  acc:  75.95\n",
      "Best arch:  [[8, 32, 64, 128], [3, 5, 5, 7]]  acc:  76.57\n",
      "Best arch:  [[8, 32, 64, 128], [5, 5, 5, 7]]  acc:  77.08\n",
      "Best arch:  [[8, 32, 64, 128], [7, 5, 5, 7]]  acc:  77.6\n",
      "Best arch:  [[8, 32, 64, 128], [3, 7, 5, 7]]  acc:  77.66\n",
      "Best arch:  [[8, 32, 64, 128], [5, 7, 5, 7]]  acc:  78.23\n",
      "Best arch:  [[8, 32, 64, 128], [5, 7, 7, 5]]  acc:  78.27\n",
      "Best arch:  [[8, 32, 64, 128], [5, 3, 7, 7]]  acc:  78.69\n"
     ]
    }
   ],
   "source": [
    "max_acc = 0\n",
    "for k in all_archs.keys():\n",
    "    if all_archs[k][\"test_accuracy\"]>max_acc:\n",
    "        max_acc = all_archs[k][\"test_accuracy\"]\n",
    "        best_arch = k\n",
    "        print(\"Best arch: \", k, \" acc: \", max_acc)"
   ]
  },
  {
   "cell_type": "code",
   "execution_count": 19,
   "metadata": {},
   "outputs": [
    {
     "data": {
      "text/plain": [
       "'[[8, 32, 64, 128], [5, 3, 7, 7]]'"
      ]
     },
     "execution_count": 19,
     "metadata": {},
     "output_type": "execute_result"
    }
   ],
   "source": [
    "best_arch"
   ]
  },
  {
   "cell_type": "code",
   "execution_count": 20,
   "metadata": {},
   "outputs": [
    {
     "data": {
      "text/plain": [
       "{'test_accuracy': 78.69, 'train_accuracy': 81.826}"
      ]
     },
     "execution_count": 20,
     "metadata": {},
     "output_type": "execute_result"
    }
   ],
   "source": [
    "all_archs[best_arch]"
   ]
  },
  {
   "cell_type": "code",
   "execution_count": 21,
   "metadata": {},
   "outputs": [],
   "source": [
    "test_acc_distribution = []\n",
    "for k in all_archs.keys():\n",
    "    test_acc_distribution.append(all_archs[k][\"test_accuracy\"])\n"
   ]
  },
  {
   "cell_type": "code",
   "execution_count": 22,
   "metadata": {},
   "outputs": [
    {
     "data": {
      "text/plain": [
       "(array([472., 829., 746., 564., 468., 372., 329., 228., 216., 199., 142.,\n",
       "        153., 119., 112., 143., 183., 190., 103., 349., 189.]),\n",
       " array([ 9.94  , 13.3775, 16.815 , 20.2525, 23.69  , 27.1275, 30.565 ,\n",
       "        34.0025, 37.44  , 40.8775, 44.315 , 47.7525, 51.19  , 54.6275,\n",
       "        58.065 , 61.5025, 64.94  , 68.3775, 71.815 , 75.2525, 78.69  ]),\n",
       " <BarContainer object of 20 artists>)"
      ]
     },
     "execution_count": 22,
     "metadata": {},
     "output_type": "execute_result"
    },
    {
     "data": {
      "image/png": "[encoded data removed]",
      "text/plain": [
       "<Figure size 640x480 with 1 Axes>"
      ]
     },
     "metadata": {},
     "output_type": "display_data"
    }
   ],
   "source": [
    "# Plot diswtribution\n",
    "import matplotlib.pyplot as plt\n",
    "import numpy as np\n",
    "plt.hist(test_acc_distribution, bins=20)"
   ]
  },
  {
   "cell_type": "code",
   "execution_count": 27,
   "metadata": {},
   "outputs": [
    {
     "name": "stdout",
     "output_type": "stream",
     "text": [
      "{'test_accuracy': 10.0, 'train_accuracy': 10.0}\n"
     ]
    }
   ],
   "source": [
    "# DrNAS genotypes\n",
    "print(all_archs[str([[8,16,32,64], [3,3,3,3]])])\n",
    "\n"
   ]
  },
  {
   "cell_type": "code",
   "execution_count": 28,
   "metadata": {},
   "outputs": [],
   "source": [
    "with open(\"/work/dlclarge2/sukthank-tanglenas/small_search_spaces/TangleNAS-dev/search_spaces/toy_entangled_cell_ss/entangled_cell_ss_benchmark.pkl\", \"rb\") as f:\n",
    "    all_archs = pickle.load(f)"
   ]
  },
  {
   "cell_type": "code",
   "execution_count": 33,
   "metadata": {},
   "outputs": [
    {
     "name": "stdout",
     "output_type": "stream",
     "text": [
      "Best arch:  Genotype(normal=[('sep_conv_3x3', 0), ('sep_conv_3x3', 0), ('sep_conv_3x3', 1)], normal_concat=range(1, 3), reduce=[('sep_conv_3x3', 0), ('sep_conv_3x3', 0), ('sep_conv_3x3', 1)], reduce_concat=range(1, 3))  acc:  90.88\n",
      "Best arch:  Genotype(normal=[('sep_conv_3x3', 0), ('sep_conv_3x3', 0), ('sep_conv_3x3', 1)], normal_concat=range(1, 3), reduce=[('sep_conv_3x3', 0), ('sep_conv_3x3', 0), ('dil_conv_3x3', 1)], reduce_concat=range(1, 3))  acc:  90.9\n",
      "Best arch:  Genotype(normal=[('sep_conv_3x3', 0), ('sep_conv_3x3', 0), ('sep_conv_3x3', 1)], normal_concat=range(1, 3), reduce=[('sep_conv_3x3', 0), ('sep_conv_3x3', 0), ('dil_conv_5x5', 1)], reduce_concat=range(1, 3))  acc:  90.98\n",
      "Best arch:  Genotype(normal=[('sep_conv_3x3', 0), ('sep_conv_3x3', 0), ('sep_conv_3x3', 1)], normal_concat=range(1, 3), reduce=[('sep_conv_3x3', 0), ('sep_conv_5x5', 0), ('dil_conv_3x3', 1)], reduce_concat=range(1, 3))  acc:  91.31\n",
      "Best arch:  Genotype(normal=[('sep_conv_3x3', 0), ('sep_conv_3x3', 0), ('sep_conv_5x5', 1)], normal_concat=range(1, 3), reduce=[('sep_conv_3x3', 0), ('sep_conv_3x3', 0), ('dil_conv_5x5', 1)], reduce_concat=range(1, 3))  acc:  91.49\n",
      "Best arch:  Genotype(normal=[('sep_conv_3x3', 0), ('sep_conv_3x3', 0), ('dil_conv_3x3', 1)], normal_concat=range(1, 3), reduce=[('sep_conv_3x3', 0), ('dil_conv_3x3', 0), ('sep_conv_3x3', 1)], reduce_concat=range(1, 3))  acc:  91.63\n"
     ]
    }
   ],
   "source": [
    "max_acc = 0\n",
    "for k in all_archs.keys():\n",
    "    if all_archs[k][\"test_acc\"]>max_acc:\n",
    "        max_acc = all_archs[k][\"test_acc\"]\n",
    "        best_arch = k\n",
    "        print(\"Best arch: \", k, \" acc: \", max_acc)"
   ]
  },
  {
   "cell_type": "code",
   "execution_count": 34,
   "metadata": {},
   "outputs": [
    {
     "data": {
      "text/plain": [
       "{'test_acc': 91.63,\n",
       " 'train_acc': 96.315,\n",
       " 'num_params': 191530.0,\n",
       " 'latency_gpu_mean': 545.84,\n",
       " 'latency_gpu_std': 1.9935897271003382,\n",
       " 'latency_cpu_mean': 7.3459699999999994,\n",
       " 'latency_cpu_std': 0.15193771454118954,\n",
       " 'unit_gpu': 'us',\n",
       " 'unit_cpu': 'ms'}"
      ]
     },
     "execution_count": 34,
     "metadata": {},
     "output_type": "execute_result"
    }
   ],
   "source": [
    "all_archs[best_arch]"
   ]
  },
  {
   "cell_type": "code",
   "execution_count": 35,
   "metadata": {},
   "outputs": [],
   "source": [
    "# get test_acc distribution\n",
    "test_acc_distribution = []\n",
    "for k in all_archs.keys():\n",
    "    test_acc_distribution.append(all_archs[k][\"test_acc\"])\n"
   ]
  },
  {
   "cell_type": "code",
   "execution_count": 36,
   "metadata": {},
   "outputs": [
    {
     "data": {
      "text/plain": [
       "(array([  2.,   0.,   5.,  21.,  70., 134., 227., 257., 203.,  97.,   8.,\n",
       "          2.,  23.,  90., 265., 571., 831., 832., 391.,  67.]),\n",
       " array([86.06  , 86.3385, 86.617 , 86.8955, 87.174 , 87.4525, 87.731 ,\n",
       "        88.0095, 88.288 , 88.5665, 88.845 , 89.1235, 89.402 , 89.6805,\n",
       "        89.959 , 90.2375, 90.516 , 90.7945, 91.073 , 91.3515, 91.63  ]),\n",
       " <BarContainer object of 20 artists>)"
      ]
     },
     "execution_count": 36,
     "metadata": {},
     "output_type": "execute_result"
    },
    {
     "data": {
      "image/png": "[encoded data removed]",
      "text/plain": [
       "<Figure size 640x480 with 1 Axes>"
      ]
     },
     "metadata": {},
     "output_type": "display_data"
    }
   ],
   "source": [
    "# plot distribution\n",
    "import matplotlib.pyplot as plt\n",
    "import numpy as np\n",
    "plt.hist(test_acc_distribution, bins=20)\n"
   ]
  },
  {
   "cell_type": "code",
   "execution_count": null,
   "metadata": {},
   "outputs": [],
   "source": []
  }
 ],
 "metadata": {
  "kernelspec": {
   "display_name": "Python 3",
   "language": "python",
   "name": "python3"
  },
  "language_info": {
   "codemirror_mode": {
    "name": "ipython",
    "version": 3
   },
   "file_extension": ".py",
   "mimetype": "text/x-python",
   "name": "python",
   "nbconvert_exporter": "python",
   "pygments_lexer": "ipython3",
   "version": "3.9.13"
  },
  "orig_nbformat": 4
 },
 "nbformat": 4,
 "nbformat_minor": 2
}
